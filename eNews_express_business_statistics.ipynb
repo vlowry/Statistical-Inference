{
 "cells": [
  {
   "cell_type": "markdown",
   "metadata": {
    "id": "6yDxo9u0d9Na"
   },
   "source": [
    "# Business Statistics: E-news Express"
   ]
  },
  {
   "cell_type": "markdown",
   "metadata": {
    "id": "SrLd-ICEmPSD"
   },
   "source": [
    "## Define Problem Statement and Objectives\n",
    "\n",
    "#### Business Context\n",
    "\n",
    "The advent of e-news, or electronic news, portals has offered us a great opportunity to quickly get updates on the day-to-day events occurring globally. The information on these portals is retrieved electronically from online databases, processed using a variety of software, and then transmitted to the users. There are multiple advantages of transmitting new electronically, like faster access to the content and the ability to utilize different technologies such as audio, graphics, video, and other interactive elements that are either not being used or aren’t common yet in traditional newspapers.\n",
    "\n",
    "E-news Express, an online news portal, aims to expand its business by acquiring new subscribers. With every visitor to the website taking certain actions based on their interest, the company plans to analyze these actions to understand user interests and determine how to drive better engagement. The executives at E-news Express are of the opinion that there has been a decline in new monthly subscribers compared to the past year because the current webpage is not designed well enough in terms of the outline & recommended content to keep customers engaged long enough to make a decision to subscribe.\n",
    "\n",
    "#### Objective\n",
    "\n",
    "The design team of the company has researched and created a new landing page that has a new outline & more relevant content shown compared to the old page. In order to test the effectiveness of the new landing page in gathering new subscribers, the Data Science team conducted an experiment by randomly selecting 100 users and dividing them equally into two groups. The existing landing page was served to the first group (control group) and the new landing page to the second group (treatment group). Data regarding the interaction of users in both groups with the two versions of the landing page was collected. The objective is to explore the data and perform a statistical analysis (at a significance level of 5%) to determine the effectiveness of the new landing page in gathering new subscribers for the news portal by answering the following questions:\n",
    "\n",
    "* Do the users spend more time on the new landing page than on the existing landing page?\n",
    "* Is the conversion rate (the proportion of users who visit the landing page and get converted) for the new page greater than the conversion rate for the old page?\n",
    "* Does the converted status depend on the preferred language?\n",
    "* Is the time spent on the new page the same for the different language users?\n",
    "\n",
    "#### Data Dictionary\n",
    "\n",
    "The data contains information regarding the interaction of users in both groups with the two versions of the landing page.\n",
    "\n",
    "* user_id - Unique user ID of the person visiting the website\n",
    "* group - Whether the user belongs to the first group (control) or the second group (treatment)\n",
    "* landing_page - Whether the landing page is new or old\n",
    "* time_spent_on_the_page - Time (in minutes) spent by the user on the landing page\n",
    "* converted - Whether the user gets converted to a subscriber of the news portal or not\n",
    "* language_preferred - Language chosen by the user to view the landing page\n",
    "\n"
   ]
  },
  {
   "cell_type": "code",
   "execution_count": 1,
   "metadata": {
    "id": "a6a3d218"
   },
   "outputs": [],
   "source": [
    "import numpy as np\n",
    "import pandas as pd\n",
    "from matplotlib import pyplot as plt\n",
    "import seaborn as sns\n",
    "from scipy.stats import norm"
   ]
  },
  {
   "cell_type": "code",
   "execution_count": 2,
   "metadata": {
    "id": "d3b95640"
   },
   "outputs": [],
   "source": [
    "# Read in data\n",
    "df = pd.read_csv('abtest.csv')"
   ]
  },
  {
   "cell_type": "markdown",
   "metadata": {},
   "source": [
    "# Explore the dataset and extract insights using Exploratory Data Analysis\n",
    "\n",
    "### Data Overview"
   ]
  },
  {
   "cell_type": "code",
   "execution_count": 3,
   "metadata": {},
   "outputs": [
    {
     "data": {
      "text/html": [
       "<div>\n",
       "<style scoped>\n",
       "    .dataframe tbody tr th:only-of-type {\n",
       "        vertical-align: middle;\n",
       "    }\n",
       "\n",
       "    .dataframe tbody tr th {\n",
       "        vertical-align: top;\n",
       "    }\n",
       "\n",
       "    .dataframe thead th {\n",
       "        text-align: right;\n",
       "    }\n",
       "</style>\n",
       "<table border=\"1\" class=\"dataframe\">\n",
       "  <thead>\n",
       "    <tr style=\"text-align: right;\">\n",
       "      <th></th>\n",
       "      <th>user_id</th>\n",
       "      <th>group</th>\n",
       "      <th>landing_page</th>\n",
       "      <th>time_spent_on_the_page</th>\n",
       "      <th>converted</th>\n",
       "      <th>language_preferred</th>\n",
       "    </tr>\n",
       "  </thead>\n",
       "  <tbody>\n",
       "    <tr>\n",
       "      <th>0</th>\n",
       "      <td>546592</td>\n",
       "      <td>control</td>\n",
       "      <td>old</td>\n",
       "      <td>3.48</td>\n",
       "      <td>no</td>\n",
       "      <td>Spanish</td>\n",
       "    </tr>\n",
       "    <tr>\n",
       "      <th>1</th>\n",
       "      <td>546468</td>\n",
       "      <td>treatment</td>\n",
       "      <td>new</td>\n",
       "      <td>7.13</td>\n",
       "      <td>yes</td>\n",
       "      <td>English</td>\n",
       "    </tr>\n",
       "    <tr>\n",
       "      <th>2</th>\n",
       "      <td>546462</td>\n",
       "      <td>treatment</td>\n",
       "      <td>new</td>\n",
       "      <td>4.40</td>\n",
       "      <td>no</td>\n",
       "      <td>Spanish</td>\n",
       "    </tr>\n",
       "    <tr>\n",
       "      <th>3</th>\n",
       "      <td>546567</td>\n",
       "      <td>control</td>\n",
       "      <td>old</td>\n",
       "      <td>3.02</td>\n",
       "      <td>no</td>\n",
       "      <td>French</td>\n",
       "    </tr>\n",
       "    <tr>\n",
       "      <th>4</th>\n",
       "      <td>546459</td>\n",
       "      <td>treatment</td>\n",
       "      <td>new</td>\n",
       "      <td>4.75</td>\n",
       "      <td>yes</td>\n",
       "      <td>Spanish</td>\n",
       "    </tr>\n",
       "  </tbody>\n",
       "</table>\n",
       "</div>"
      ],
      "text/plain": [
       "   user_id      group landing_page  time_spent_on_the_page converted  \\\n",
       "0   546592    control          old                    3.48        no   \n",
       "1   546468  treatment          new                    7.13       yes   \n",
       "2   546462  treatment          new                    4.40        no   \n",
       "3   546567    control          old                    3.02        no   \n",
       "4   546459  treatment          new                    4.75       yes   \n",
       "\n",
       "  language_preferred  \n",
       "0            Spanish  \n",
       "1            English  \n",
       "2            Spanish  \n",
       "3             French  \n",
       "4            Spanish  "
      ]
     },
     "execution_count": 3,
     "metadata": {},
     "output_type": "execute_result"
    }
   ],
   "source": [
    "# Print the data head\n",
    "df.head()"
   ]
  },
  {
   "cell_type": "markdown",
   "metadata": {},
   "source": [
    "#### Observations:\n",
    "\n",
    "* There are 6 columns of data\n",
    "\n"
   ]
  },
  {
   "cell_type": "code",
   "execution_count": 44,
   "metadata": {},
   "outputs": [
    {
     "data": {
      "text/html": [
       "<div>\n",
       "<style scoped>\n",
       "    .dataframe tbody tr th:only-of-type {\n",
       "        vertical-align: middle;\n",
       "    }\n",
       "\n",
       "    .dataframe tbody tr th {\n",
       "        vertical-align: top;\n",
       "    }\n",
       "\n",
       "    .dataframe thead th {\n",
       "        text-align: right;\n",
       "    }\n",
       "</style>\n",
       "<table border=\"1\" class=\"dataframe\">\n",
       "  <thead>\n",
       "    <tr style=\"text-align: right;\">\n",
       "      <th></th>\n",
       "      <th>user_id</th>\n",
       "      <th>group</th>\n",
       "      <th>landing_page</th>\n",
       "      <th>time_spent_on_the_page</th>\n",
       "      <th>converted</th>\n",
       "      <th>language_preferred</th>\n",
       "    </tr>\n",
       "  </thead>\n",
       "  <tbody>\n",
       "    <tr>\n",
       "      <th>95</th>\n",
       "      <td>546446</td>\n",
       "      <td>treatment</td>\n",
       "      <td>new</td>\n",
       "      <td>5.15</td>\n",
       "      <td>no</td>\n",
       "      <td>Spanish</td>\n",
       "    </tr>\n",
       "    <tr>\n",
       "      <th>96</th>\n",
       "      <td>546544</td>\n",
       "      <td>control</td>\n",
       "      <td>old</td>\n",
       "      <td>6.52</td>\n",
       "      <td>yes</td>\n",
       "      <td>English</td>\n",
       "    </tr>\n",
       "    <tr>\n",
       "      <th>97</th>\n",
       "      <td>546472</td>\n",
       "      <td>treatment</td>\n",
       "      <td>new</td>\n",
       "      <td>7.07</td>\n",
       "      <td>yes</td>\n",
       "      <td>Spanish</td>\n",
       "    </tr>\n",
       "    <tr>\n",
       "      <th>98</th>\n",
       "      <td>546481</td>\n",
       "      <td>treatment</td>\n",
       "      <td>new</td>\n",
       "      <td>6.20</td>\n",
       "      <td>yes</td>\n",
       "      <td>Spanish</td>\n",
       "    </tr>\n",
       "    <tr>\n",
       "      <th>99</th>\n",
       "      <td>546483</td>\n",
       "      <td>treatment</td>\n",
       "      <td>new</td>\n",
       "      <td>5.86</td>\n",
       "      <td>yes</td>\n",
       "      <td>English</td>\n",
       "    </tr>\n",
       "  </tbody>\n",
       "</table>\n",
       "</div>"
      ],
      "text/plain": [
       "    user_id      group landing_page  time_spent_on_the_page converted  \\\n",
       "95   546446  treatment          new                    5.15        no   \n",
       "96   546544    control          old                    6.52       yes   \n",
       "97   546472  treatment          new                    7.07       yes   \n",
       "98   546481  treatment          new                    6.20       yes   \n",
       "99   546483  treatment          new                    5.86       yes   \n",
       "\n",
       "   language_preferred  \n",
       "95            Spanish  \n",
       "96            English  \n",
       "97            Spanish  \n",
       "98            Spanish  \n",
       "99            English  "
      ]
     },
     "execution_count": 44,
     "metadata": {},
     "output_type": "execute_result"
    }
   ],
   "source": [
    "# Print out data tail\n",
    "df.tail()"
   ]
  },
  {
   "cell_type": "markdown",
   "metadata": {},
   "source": [
    "#### Observations\n",
    "* There are 100 rows of data"
   ]
  },
  {
   "cell_type": "code",
   "execution_count": 5,
   "metadata": {},
   "outputs": [
    {
     "data": {
      "text/html": [
       "<div>\n",
       "<style scoped>\n",
       "    .dataframe tbody tr th:only-of-type {\n",
       "        vertical-align: middle;\n",
       "    }\n",
       "\n",
       "    .dataframe tbody tr th {\n",
       "        vertical-align: top;\n",
       "    }\n",
       "\n",
       "    .dataframe thead th {\n",
       "        text-align: right;\n",
       "    }\n",
       "</style>\n",
       "<table border=\"1\" class=\"dataframe\">\n",
       "  <thead>\n",
       "    <tr style=\"text-align: right;\">\n",
       "      <th></th>\n",
       "      <th>count</th>\n",
       "      <th>mean</th>\n",
       "      <th>std</th>\n",
       "      <th>min</th>\n",
       "      <th>25%</th>\n",
       "      <th>50%</th>\n",
       "      <th>75%</th>\n",
       "      <th>max</th>\n",
       "    </tr>\n",
       "  </thead>\n",
       "  <tbody>\n",
       "    <tr>\n",
       "      <th>user_id</th>\n",
       "      <td>100.0</td>\n",
       "      <td>546517.0000</td>\n",
       "      <td>52.295779</td>\n",
       "      <td>546443.00</td>\n",
       "      <td>546467.75</td>\n",
       "      <td>546492.500</td>\n",
       "      <td>546567.2500</td>\n",
       "      <td>546592.00</td>\n",
       "    </tr>\n",
       "    <tr>\n",
       "      <th>time_spent_on_the_page</th>\n",
       "      <td>100.0</td>\n",
       "      <td>5.3778</td>\n",
       "      <td>2.378166</td>\n",
       "      <td>0.19</td>\n",
       "      <td>3.88</td>\n",
       "      <td>5.415</td>\n",
       "      <td>7.0225</td>\n",
       "      <td>10.71</td>\n",
       "    </tr>\n",
       "  </tbody>\n",
       "</table>\n",
       "</div>"
      ],
      "text/plain": [
       "                        count         mean        std        min        25%  \\\n",
       "user_id                 100.0  546517.0000  52.295779  546443.00  546467.75   \n",
       "time_spent_on_the_page  100.0       5.3778   2.378166       0.19       3.88   \n",
       "\n",
       "                               50%          75%        max  \n",
       "user_id                 546492.500  546567.2500  546592.00  \n",
       "time_spent_on_the_page       5.415       7.0225      10.71  "
      ]
     },
     "execution_count": 5,
     "metadata": {},
     "output_type": "execute_result"
    }
   ],
   "source": [
    "# Print the statistical summary of the data\n",
    "df.describe().T"
   ]
  },
  {
   "cell_type": "markdown",
   "metadata": {},
   "source": [
    "#### Observations\n",
    "*  The average time spent on the webpage is ~5.4 minutes with standard deviation of ~2.4 minutes.  \n",
    "*  The minimum time spend on the webpage was ~0.2 minutes and maximum time was ~10.7 minutes. \n",
    "*  The mean and median times are similar indicating that the data are likely normally distributed."
   ]
  },
  {
   "cell_type": "code",
   "execution_count": 47,
   "metadata": {},
   "outputs": [
    {
     "name": "stdout",
     "output_type": "stream",
     "text": [
      "<class 'pandas.core.frame.DataFrame'>\n",
      "RangeIndex: 100 entries, 0 to 99\n",
      "Data columns (total 6 columns):\n",
      " #   Column                  Non-Null Count  Dtype  \n",
      "---  ------                  --------------  -----  \n",
      " 0   user_id                 100 non-null    int64  \n",
      " 1   group                   100 non-null    object \n",
      " 2   landing_page            100 non-null    object \n",
      " 3   time_spent_on_the_page  100 non-null    float64\n",
      " 4   converted               100 non-null    object \n",
      " 5   language_preferred      100 non-null    object \n",
      "dtypes: float64(1), int64(1), object(4)\n",
      "memory usage: 4.8+ KB\n"
     ]
    }
   ],
   "source": [
    "# Check the data types of each column\n",
    "df.info()"
   ]
  },
  {
   "cell_type": "markdown",
   "metadata": {},
   "source": [
    "#### Observations\n",
    "* There is one column of integer values, one column of float values, and the rest are object."
   ]
  },
  {
   "cell_type": "code",
   "execution_count": 48,
   "metadata": {},
   "outputs": [
    {
     "data": {
      "text/plain": [
       "user_id                   0\n",
       "group                     0\n",
       "landing_page              0\n",
       "time_spent_on_the_page    0\n",
       "converted                 0\n",
       "language_preferred        0\n",
       "dtype: int64"
      ]
     },
     "execution_count": 48,
     "metadata": {},
     "output_type": "execute_result"
    }
   ],
   "source": [
    "# Check for missing values in the data\n",
    "df.isnull().sum()"
   ]
  },
  {
   "cell_type": "markdown",
   "metadata": {},
   "source": [
    "#### Observations\n",
    "\n",
    "*  There are no missing values in the data.\n"
   ]
  },
  {
   "cell_type": "code",
   "execution_count": 49,
   "metadata": {},
   "outputs": [
    {
     "data": {
      "text/plain": [
       "0"
      ]
     },
     "execution_count": 49,
     "metadata": {},
     "output_type": "execute_result"
    }
   ],
   "source": [
    "# Check for duplicates \n",
    "df.duplicated().sum()"
   ]
  },
  {
   "cell_type": "markdown",
   "metadata": {},
   "source": [
    "#### Observations\n",
    "* There are no duplicates in the data."
   ]
  },
  {
   "cell_type": "markdown",
   "metadata": {
    "id": "68f3b2c9"
   },
   "source": [
    "### Univariate Analysis\n"
   ]
  },
  {
   "cell_type": "markdown",
   "metadata": {
    "id": "1932d0f3"
   },
   "source": [
    "#### Observations on user id"
   ]
  },
  {
   "cell_type": "code",
   "execution_count": 7,
   "metadata": {},
   "outputs": [
    {
     "name": "stdout",
     "output_type": "stream",
     "text": [
      "There are 100 unique user_ids.\n"
     ]
    }
   ],
   "source": [
    "#  Determine the uniqueness of user id's\n",
    "unique_id = df['user_id'].nunique()\n",
    "print('There are '+str(unique_id)+' unique user_ids.')"
   ]
  },
  {
   "cell_type": "markdown",
   "metadata": {},
   "source": [
    "#### Observations\n",
    "* There are 100 unique user_id's"
   ]
  },
  {
   "cell_type": "markdown",
   "metadata": {},
   "source": [
    "#### Observations on group\n",
    "\n"
   ]
  },
  {
   "cell_type": "code",
   "execution_count": 51,
   "metadata": {},
   "outputs": [
    {
     "data": {
      "image/png": "[encoded data removed]",
      "text/plain": [
       "<Figure size 640x480 with 1 Axes>"
      ]
     },
     "metadata": {},
     "output_type": "display_data"
    },
    {
     "name": "stdout",
     "output_type": "stream",
     "text": [
      "There are 50 customers in the control group and 50 customers in the treatment group.\n"
     ]
    }
   ],
   "source": [
    "# Plot the group variable\n",
    "sns.countplot(data=df,x='group')\n",
    "plt.xticks(rotation=90)\n",
    "plt.show()\n",
    "\n",
    "# Print the number of control versus treatment\n",
    "num_control = len(df[df['group'] == 'control'])\n",
    "num_treat   = len(df[df['group'] == 'treatment'])\n",
    "print('There are ' + str(num_control) + ' customers in the control group and ' + str(num_treat) + ' customers in the treatment group.')"
   ]
  },
  {
   "cell_type": "markdown",
   "metadata": {},
   "source": [
    "#### Observations\n",
    "* There are an equal number (50) of customers in the control group and the treatment group."
   ]
  },
  {
   "cell_type": "markdown",
   "metadata": {},
   "source": [
    "#### Observations on Landing Page\n",
    "\n"
   ]
  },
  {
   "cell_type": "code",
   "execution_count": 52,
   "metadata": {},
   "outputs": [
    {
     "data": {
      "image/png": "[encoded data removed]",
      "text/plain": [
       "<Figure size 640x480 with 1 Axes>"
      ]
     },
     "metadata": {},
     "output_type": "display_data"
    },
    {
     "name": "stdout",
     "output_type": "stream",
     "text": [
      "There are 50 customers on the old landing page and 50 on the new.\n"
     ]
    }
   ],
   "source": [
    "#  Plot the landing_page variable\n",
    "sns.countplot(data=df,x='landing_page')\n",
    "plt.xticks(rotation=90)\n",
    "plt.xlabel('Landing Page')\n",
    "plt.show()\n",
    "\n",
    "# Print the number of old versus new landing_page\n",
    "num_old = len(df[df['landing_page']== 'old'])\n",
    "num_new = len(df[df['landing_page']== 'new'])\n",
    "print('There are ' + str(num_old) + ' customers on the old landing page and ' + str(num_new) + ' on the new.')"
   ]
  },
  {
   "cell_type": "markdown",
   "metadata": {},
   "source": [
    "#### Observations\n",
    "\n",
    "- There are an equal number \\(50\\) of customers on the old landing page compared to the new."
   ]
  },
  {
   "cell_type": "markdown",
   "metadata": {},
   "source": [
    "#### Observations on Time Spent on the Page\n",
    "\n"
   ]
  },
  {
   "cell_type": "code",
   "execution_count": 53,
   "metadata": {},
   "outputs": [
    {
     "data": {
      "image/png": "[encoded data removed]",
      "text/plain": [
       "<Figure size 640x480 with 1 Axes>"
      ]
     },
     "metadata": {},
     "output_type": "display_data"
    },
    {
     "data": {
      "image/png": "[encoded data removed]",
      "text/plain": [
       "<Figure size 640x480 with 1 Axes>"
      ]
     },
     "metadata": {},
     "output_type": "display_data"
    },
    {
     "name": "stdout",
     "output_type": "stream",
     "text": [
      "The min, max, and median are 0.19, 10.71, and 5.415 minutes.\n"
     ]
    }
   ],
   "source": [
    "# Plot a histogram of the time_spent_on_the_page and represent the mean with vertical line\n",
    "sns.histplot(data=df,x='time_spent_on_the_page', kde=True)\n",
    "mu = df['time_spent_on_the_page'].mean()\n",
    "plt.axvline(x=mu, c='r', label='mean') #plots vertical line at mean\n",
    "plt.xlabel('Time Spent on the Page')\n",
    "plt.legend()\n",
    "plt.show()\n",
    "\n",
    "# Plot a boxplot of the time_spent_on_the_page\n",
    "sns.boxplot(data=df,x='time_spent_on_the_page')\n",
    "plt.xlabel('Time Spent on the Page')\n",
    "plt.show()\n",
    "\n",
    "# Print the min, max, and median\n",
    "min_t = df['time_spent_on_the_page'].min()\n",
    "max_t = df['time_spent_on_the_page'].max()\n",
    "med_t = df['time_spent_on_the_page'].median()\n",
    "print('The min, max, and median are ' + str(min_t) + ', ' + str(max_t) + ', and ' + str(med_t) + ' minutes.')"
   ]
  },
  {
   "cell_type": "markdown",
   "metadata": {},
   "source": [
    "#### Observations\n",
    "* The distribution of the time spent on the page is normally distributed.  \n",
    "* The maximum time spent on the page was ~0.2 minutes and the maximum was ~10.7 minutes.  The median time spent on the page was ~5.4 minutes.\n",
    "* There are no outliers."
   ]
  },
  {
   "cell_type": "markdown",
   "metadata": {},
   "source": [
    "#### Observations on Converted"
   ]
  },
  {
   "cell_type": "code",
   "execution_count": 54,
   "metadata": {},
   "outputs": [
    {
     "data": {
      "image/png": "[encoded data removed]",
      "text/plain": [
       "<Figure size 640x480 with 1 Axes>"
      ]
     },
     "metadata": {},
     "output_type": "display_data"
    },
    {
     "name": "stdout",
     "output_type": "stream",
     "text": [
      "The number of converted customers is 54 and the number of not converted is 46.\n"
     ]
    }
   ],
   "source": [
    "# Plot of converted variable\n",
    "sns.countplot(data=df,x='converted')\n",
    "plt.xlabel('Converted')\n",
    "plt.show()\n",
    "\n",
    "# Print out number of converted and not converted\n",
    "converted     = len(df[df['converted'] == 'yes'])\n",
    "not_converted = len(df[df['converted'] == 'no'])\n",
    "print('The number of converted customers is ' + str(converted) + ' and the number of not converted is ' + str(not_converted) +'.')"
   ]
  },
  {
   "cell_type": "markdown",
   "metadata": {},
   "source": [
    "#### Observations\n",
    "* 54% customers were converted and 46% were not converted."
   ]
  },
  {
   "cell_type": "markdown",
   "metadata": {},
   "source": [
    "#### Observations on Language Preferred"
   ]
  },
  {
   "cell_type": "code",
   "execution_count": 55,
   "metadata": {},
   "outputs": [
    {
     "data": {
      "image/png": "[encoded data removed]",
      "text/plain": [
       "<Figure size 640x480 with 1 Axes>"
      ]
     },
     "metadata": {},
     "output_type": "display_data"
    },
    {
     "name": "stdout",
     "output_type": "stream",
     "text": [
      "The language preferences are 34 prefer Spanish, 32 prefer English, and 34 prefer French.\n"
     ]
    }
   ],
   "source": [
    "# Plot of language preferred variable\n",
    "sns.countplot(data=df,x='language_preferred')\n",
    "plt.xlabel('Language Preferred')\n",
    "plt.show()\n",
    "\n",
    "# Print out number of language preferences\n",
    "spanish = len(df[df['language_preferred'] == 'Spanish'])\n",
    "english = len(df[df['language_preferred'] == 'English'])\n",
    "french  = len(df[df['language_preferred'] == 'French'])\n",
    "print( 'The language preferences are ' + str(spanish) + ' prefer Spanish, ' + str(english) +' prefer English, and ' + str(french) + ' prefer French.')"
   ]
  },
  {
   "cell_type": "markdown",
   "metadata": {},
   "source": [
    "#### Observations\n",
    "*  34 customers prefer Spanish, 32 prefer English, and 34 prefer French.\n",
    "*  Spanish and French are the most preferred languages, and English is the least preferred by customers."
   ]
  },
  {
   "cell_type": "markdown",
   "metadata": {
    "id": "fad2de2f"
   },
   "source": [
    "### Bivariate Analysis"
   ]
  },
  {
   "cell_type": "markdown",
   "metadata": {},
   "source": [
    "#### Relationship between landing page and time spent on the page"
   ]
  },
  {
   "cell_type": "code",
   "execution_count": 70,
   "metadata": {},
   "outputs": [
    {
     "data": {
      "image/png": "[encoded data removed]",
      "text/plain": [
       "<Figure size 640x480 with 1 Axes>"
      ]
     },
     "metadata": {},
     "output_type": "display_data"
    }
   ],
   "source": [
    "# Plot to compare landing page to time spent on page\n",
    "sns.boxplot(data=df, x=\"time_spent_on_the_page\", y=\"landing_page\")\n",
    "plt.xlabel('Time Spent on the Page')\n",
    "plt.ylabel('Landing Page')\n",
    "plt.show()"
   ]
  },
  {
   "cell_type": "markdown",
   "metadata": {},
   "source": [
    "#### Observations\n",
    "* There are a wider range of times spent on the old landing page compared to the new. \n",
    "* The median time spent on the page is higher for the new landing page compared to the old.\n",
    "* More than 75% of the new landing page data is above the median for the old landing page.\n",
    "* The data are slightly right skewed for both landing pages.\n",
    "* There are some outliers present in the new landing page data."
   ]
  },
  {
   "cell_type": "markdown",
   "metadata": {},
   "source": [
    "#### Relationship between conversion and time spent on the page"
   ]
  },
  {
   "cell_type": "code",
   "execution_count": 71,
   "metadata": {},
   "outputs": [
    {
     "data": {
      "image/png": "[encoded data removed]",
      "text/plain": [
       "<Figure size 640x480 with 1 Axes>"
      ]
     },
     "metadata": {},
     "output_type": "display_data"
    }
   ],
   "source": [
    "# Plot to compare if customers were converted to time spent on page\n",
    "sns.boxplot(data=df, x=\"time_spent_on_the_page\", y=\"converted\")\n",
    "plt.xlabel('Time Spent on the Page')\n",
    "plt.ylabel('Converted')\n",
    "plt.show()"
   ]
  },
  {
   "cell_type": "markdown",
   "metadata": {},
   "source": [
    "#### Observations\n",
    "* Customers not converted are associated with less time spent on the page.\n",
    "* More than 75% of the data for not converted is greater than 50% of the data for not converted.\n",
    "* The data for not converted may be slightly right skewed.\n",
    "* The data for converted customers appears approximately normally distributed.\n",
    "* Both sets of data contain at least one outlier or more."
   ]
  },
  {
   "cell_type": "markdown",
   "metadata": {},
   "source": [
    "#### Relationship between preferred language and time spent on the page"
   ]
  },
  {
   "cell_type": "code",
   "execution_count": 73,
   "metadata": {},
   "outputs": [
    {
     "data": {
      "image/png": "[encoded data removed]",
      "text/plain": [
       "<Figure size 640x480 with 1 Axes>"
      ]
     },
     "metadata": {},
     "output_type": "display_data"
    }
   ],
   "source": [
    "# Plot to compare preferred language with time spent on the page\n",
    "sns.boxplot(data=df, x=\"time_spent_on_the_page\", y=\"language_preferred\")\n",
    "plt.xlabel('Time Spent on the Page')\n",
    "plt.ylabel('Language Preferred')\n",
    "plt.show()"
   ]
  },
  {
   "cell_type": "markdown",
   "metadata": {},
   "source": [
    "#### Observations\n",
    "* Spanish customers had the smallest range of times spent on the page compared to English and French.\n",
    "* English and French have similar distributions with English having a slighlty higher median time.\n",
    "* The data for French customers appears to be normally distributed wheareas English and Spanish have a slight left skew.\n",
    "* The Spanish data have an outlier present."
   ]
  },
  {
   "cell_type": "markdown",
   "metadata": {
    "id": "27906576"
   },
   "source": [
    "## Do the users spend more time on the new landing page than the existing landing page?"
   ]
  },
  {
   "cell_type": "markdown",
   "metadata": {
    "id": "e5fdf0c8"
   },
   "source": [
    "### Step 0: Perform Visual Analysis"
   ]
  },
  {
   "cell_type": "code",
   "execution_count": 10,
   "metadata": {
    "id": "6eZJa41eg21n"
   },
   "outputs": [
    {
     "data": {
      "image/png": "[encoded data removed]",
      "text/plain": [
       "<Figure size 640x480 with 1 Axes>"
      ]
     },
     "metadata": {},
     "output_type": "display_data"
    },
    {
     "name": "stdout",
     "output_type": "stream",
     "text": [
      "Customers spent a total of 226.62 minutes on the old page and 311.16 minutes on the new page.\n"
     ]
    }
   ],
   "source": [
    "# Plot of landing page versus time spent on the page\n",
    "sns.boxplot(data=df, x='time_spent_on_the_page', y='landing_page')\n",
    "plt.show()\n",
    "\n",
    "# Print out total time spent on the old and new page\n",
    "old_time = df[df['landing_page'] == 'old']\n",
    "new_time = df[df['landing_page'] == 'new']\n",
    "sum_old_time = old_time['time_spent_on_the_page'].sum()\n",
    "sum_new_time = new_time['time_spent_on_the_page'].sum()\n",
    "print('Customers spent a total of ' + str(np.round(sum_old_time, decimals=2)) + ' minutes on the old page and '+ str(sum_new_time) +' minutes on the new page.')"
   ]
  },
  {
   "cell_type": "code",
   "execution_count": 11,
   "metadata": {},
   "outputs": [
    {
     "data": {
      "text/html": [
       "<div>\n",
       "<style scoped>\n",
       "    .dataframe tbody tr th:only-of-type {\n",
       "        vertical-align: middle;\n",
       "    }\n",
       "\n",
       "    .dataframe tbody tr th {\n",
       "        vertical-align: top;\n",
       "    }\n",
       "\n",
       "    .dataframe thead th {\n",
       "        text-align: right;\n",
       "    }\n",
       "</style>\n",
       "<table border=\"1\" class=\"dataframe\">\n",
       "  <thead>\n",
       "    <tr style=\"text-align: right;\">\n",
       "      <th></th>\n",
       "      <th>count</th>\n",
       "      <th>mean</th>\n",
       "      <th>std</th>\n",
       "      <th>min</th>\n",
       "      <th>25%</th>\n",
       "      <th>50%</th>\n",
       "      <th>75%</th>\n",
       "      <th>max</th>\n",
       "    </tr>\n",
       "  </thead>\n",
       "  <tbody>\n",
       "    <tr>\n",
       "      <th>user_id</th>\n",
       "      <td>50.0</td>\n",
       "      <td>546566.5000</td>\n",
       "      <td>17.677670</td>\n",
       "      <td>546493.00</td>\n",
       "      <td>546555.25</td>\n",
       "      <td>546567.50</td>\n",
       "      <td>546579.7500</td>\n",
       "      <td>546592.0</td>\n",
       "    </tr>\n",
       "    <tr>\n",
       "      <th>time_spent_on_the_page</th>\n",
       "      <td>50.0</td>\n",
       "      <td>4.5324</td>\n",
       "      <td>2.581975</td>\n",
       "      <td>0.19</td>\n",
       "      <td>2.72</td>\n",
       "      <td>4.38</td>\n",
       "      <td>6.4425</td>\n",
       "      <td>10.3</td>\n",
       "    </tr>\n",
       "  </tbody>\n",
       "</table>\n",
       "</div>"
      ],
      "text/plain": [
       "                        count         mean        std        min        25%  \\\n",
       "user_id                  50.0  546566.5000  17.677670  546493.00  546555.25   \n",
       "time_spent_on_the_page   50.0       4.5324   2.581975       0.19       2.72   \n",
       "\n",
       "                              50%          75%       max  \n",
       "user_id                 546567.50  546579.7500  546592.0  \n",
       "time_spent_on_the_page       4.38       6.4425      10.3  "
      ]
     },
     "execution_count": 11,
     "metadata": {},
     "output_type": "execute_result"
    }
   ],
   "source": [
    "# Print descriptive statistics of the old landing page\n",
    "old_time.describe().T"
   ]
  },
  {
   "cell_type": "code",
   "execution_count": 12,
   "metadata": {},
   "outputs": [
    {
     "data": {
      "text/html": [
       "<div>\n",
       "<style scoped>\n",
       "    .dataframe tbody tr th:only-of-type {\n",
       "        vertical-align: middle;\n",
       "    }\n",
       "\n",
       "    .dataframe tbody tr th {\n",
       "        vertical-align: top;\n",
       "    }\n",
       "\n",
       "    .dataframe thead th {\n",
       "        text-align: right;\n",
       "    }\n",
       "</style>\n",
       "<table border=\"1\" class=\"dataframe\">\n",
       "  <thead>\n",
       "    <tr style=\"text-align: right;\">\n",
       "      <th></th>\n",
       "      <th>count</th>\n",
       "      <th>mean</th>\n",
       "      <th>std</th>\n",
       "      <th>min</th>\n",
       "      <th>25%</th>\n",
       "      <th>50%</th>\n",
       "      <th>75%</th>\n",
       "      <th>max</th>\n",
       "    </tr>\n",
       "  </thead>\n",
       "  <tbody>\n",
       "    <tr>\n",
       "      <th>user_id</th>\n",
       "      <td>50.0</td>\n",
       "      <td>546467.5000</td>\n",
       "      <td>14.577380</td>\n",
       "      <td>546443.00</td>\n",
       "      <td>546455.250</td>\n",
       "      <td>546467.500</td>\n",
       "      <td>546479.75</td>\n",
       "      <td>546492.00</td>\n",
       "    </tr>\n",
       "    <tr>\n",
       "      <th>time_spent_on_the_page</th>\n",
       "      <td>50.0</td>\n",
       "      <td>6.2232</td>\n",
       "      <td>1.817031</td>\n",
       "      <td>1.65</td>\n",
       "      <td>5.175</td>\n",
       "      <td>6.105</td>\n",
       "      <td>7.16</td>\n",
       "      <td>10.71</td>\n",
       "    </tr>\n",
       "  </tbody>\n",
       "</table>\n",
       "</div>"
      ],
      "text/plain": [
       "                        count         mean        std        min         25%  \\\n",
       "user_id                  50.0  546467.5000  14.577380  546443.00  546455.250   \n",
       "time_spent_on_the_page   50.0       6.2232   1.817031       1.65       5.175   \n",
       "\n",
       "                               50%        75%        max  \n",
       "user_id                 546467.500  546479.75  546492.00  \n",
       "time_spent_on_the_page       6.105       7.16      10.71  "
      ]
     },
     "execution_count": 12,
     "metadata": {},
     "output_type": "execute_result"
    }
   ],
   "source": [
    "# Print descriptive statistics of the new landing page\n",
    "new_time.describe().T"
   ]
  },
  {
   "cell_type": "markdown",
   "metadata": {},
   "source": [
    "#### Observations\n",
    "\n",
    "- Customers spent a total of 226 minutes on the old page versus 311 minutes on the new page\n",
    "- On the old landing page times range from ~0.2 minutes to 10.3 minutes with an average of 4.5 minutes and median of 4.38 minutes.\n",
    "- The times range from ~1.7 minutes to ~10.7 minutes on the new landing page with an average of 6.2 minutes and median of ~6.1 minutes.\n",
    "- There are some outliers present in the new landing page data.\n",
    "- In general, the new landing page is associated with longer times spent on the page with a higher average and median time compared to the old landing page."
   ]
  },
  {
   "cell_type": "markdown",
   "metadata": {
    "id": "56b3dafd"
   },
   "source": [
    "### Step 1: Define the null and alternate hypotheses"
   ]
  },
  {
   "cell_type": "markdown",
   "metadata": {},
   "source": [
    "Let $\\mu_{new}$ and $\\mu_{old}$ be the average time spent by customers on the new landing page and old landing page, respectively.\n",
    "\n",
    "The null hypothesis is defined as the average time spent by customers on the new landing page is equal to the average time spent by customers on the old landing page, or\n",
    "\n",
    ">$H_o: \\mu_{new} = \\mu_{old}$.\n",
    "\n",
    "The alternative hypothesis is that customers spend more time on average viewing the new landing page as opposed to the old landing page, or\n",
    "\n",
    ">$H_a: \\mu_{new} > \\mu_{old}$."
   ]
  },
  {
   "cell_type": "markdown",
   "metadata": {
    "id": "c7ee4907"
   },
   "source": [
    "### Step 2: Select Appropriate test"
   ]
  },
  {
   "cell_type": "code",
   "execution_count": 60,
   "metadata": {},
   "outputs": [
    {
     "name": "stdout",
     "output_type": "stream",
     "text": [
      "The standard deviation of the time spent by customers on the old landing page was 2.58 and the standard deviation of the time spent by customers on the new landing page was 1.82.  So the standard deviations of the samples are not equal.\n"
     ]
    }
   ],
   "source": [
    "# Show that the standard deviations are unqeual\n",
    "old_time_std = old_time['time_spent_on_the_page'].std()\n",
    "new_time_std = new_time['time_spent_on_the_page'].std()\n",
    "\n",
    "# Print the standard deviations\n",
    "print('The standard deviation of the time spent by customers on the old landing page was ' + str(np.round(old_time_std, decimals=2)) +' and the standard deviation of the time spent by customers on the new landing page was ' + str(np.round(new_time_std, decimals=2)) + '.  So the standard deviations of the samples are not equal.')"
   ]
  },
  {
   "cell_type": "markdown",
   "metadata": {
    "id": "2c183cd7"
   },
   "source": [
    "#### Assumptions of Two Independent Sample T-test for Equality of Means with Unequal Standard Deviations\n",
    "* Continuous data - Yes, the time spent on the page is a continuous variable.\n",
    "* Normally distributed populations - Yes, it is normally distributed.  See univariate analysis.\n",
    "* Independent populations - Yes, they are random samples for two different groups, the two samples are from two independent populations.\n",
    "* Unequal population standard deviations - Yes, since the sample standard deviations are different, the population standard deviations may be assumed to be different.  See above code.\n",
    "* Random sampling from the population - Yes, the collected sample is stated as a simple random sample."
   ]
  },
  {
   "cell_type": "markdown",
   "metadata": {
    "id": "3f58c9a7"
   },
   "source": [
    "### Step 3: Decide the significance level"
   ]
  },
  {
   "cell_type": "markdown",
   "metadata": {},
   "source": [
    "It states in the problem that the significance level is $\\alpha = 0.05$"
   ]
  },
  {
   "cell_type": "markdown",
   "metadata": {
    "id": "5fed2eac"
   },
   "source": [
    "### Step 4: Collect and prepare data"
   ]
  },
  {
   "cell_type": "code",
   "execution_count": 61,
   "metadata": {
    "id": "f5a59495"
   },
   "outputs": [
    {
     "data": {
      "text/html": [
       "<div>\n",
       "<style scoped>\n",
       "    .dataframe tbody tr th:only-of-type {\n",
       "        vertical-align: middle;\n",
       "    }\n",
       "\n",
       "    .dataframe tbody tr th {\n",
       "        vertical-align: top;\n",
       "    }\n",
       "\n",
       "    .dataframe thead th {\n",
       "        text-align: right;\n",
       "    }\n",
       "</style>\n",
       "<table border=\"1\" class=\"dataframe\">\n",
       "  <thead>\n",
       "    <tr style=\"text-align: right;\">\n",
       "      <th></th>\n",
       "      <th>user_id</th>\n",
       "      <th>group</th>\n",
       "      <th>landing_page</th>\n",
       "      <th>time_spent_on_the_page</th>\n",
       "      <th>converted</th>\n",
       "      <th>language_preferred</th>\n",
       "    </tr>\n",
       "  </thead>\n",
       "  <tbody>\n",
       "    <tr>\n",
       "      <th>0</th>\n",
       "      <td>546592</td>\n",
       "      <td>control</td>\n",
       "      <td>old</td>\n",
       "      <td>3.48</td>\n",
       "      <td>no</td>\n",
       "      <td>Spanish</td>\n",
       "    </tr>\n",
       "    <tr>\n",
       "      <th>3</th>\n",
       "      <td>546567</td>\n",
       "      <td>control</td>\n",
       "      <td>old</td>\n",
       "      <td>3.02</td>\n",
       "      <td>no</td>\n",
       "      <td>French</td>\n",
       "    </tr>\n",
       "    <tr>\n",
       "      <th>5</th>\n",
       "      <td>546558</td>\n",
       "      <td>control</td>\n",
       "      <td>old</td>\n",
       "      <td>5.28</td>\n",
       "      <td>yes</td>\n",
       "      <td>English</td>\n",
       "    </tr>\n",
       "    <tr>\n",
       "      <th>7</th>\n",
       "      <td>546581</td>\n",
       "      <td>control</td>\n",
       "      <td>old</td>\n",
       "      <td>6.53</td>\n",
       "      <td>yes</td>\n",
       "      <td>Spanish</td>\n",
       "    </tr>\n",
       "    <tr>\n",
       "      <th>9</th>\n",
       "      <td>546548</td>\n",
       "      <td>control</td>\n",
       "      <td>old</td>\n",
       "      <td>2.08</td>\n",
       "      <td>no</td>\n",
       "      <td>English</td>\n",
       "    </tr>\n",
       "  </tbody>\n",
       "</table>\n",
       "</div>"
      ],
      "text/plain": [
       "   user_id    group landing_page  time_spent_on_the_page converted  \\\n",
       "0   546592  control          old                    3.48        no   \n",
       "3   546567  control          old                    3.02        no   \n",
       "5   546558  control          old                    5.28       yes   \n",
       "7   546581  control          old                    6.53       yes   \n",
       "9   546548  control          old                    2.08        no   \n",
       "\n",
       "  language_preferred  \n",
       "0            Spanish  \n",
       "3             French  \n",
       "5            English  \n",
       "7            Spanish  \n",
       "9            English  "
      ]
     },
     "execution_count": 61,
     "metadata": {},
     "output_type": "execute_result"
    }
   ],
   "source": [
    "# Seperate time spent on the page wrt the old from the new landing page \n",
    "old_time = df[df['landing_page'] == 'old']\n",
    "new_time = df[df['landing_page'] == 'new']\n",
    "\n",
    "# Confirm separation of data: old from new\n",
    "old_time.head()"
   ]
  },
  {
   "cell_type": "code",
   "execution_count": 62,
   "metadata": {},
   "outputs": [
    {
     "data": {
      "text/html": [
       "<div>\n",
       "<style scoped>\n",
       "    .dataframe tbody tr th:only-of-type {\n",
       "        vertical-align: middle;\n",
       "    }\n",
       "\n",
       "    .dataframe tbody tr th {\n",
       "        vertical-align: top;\n",
       "    }\n",
       "\n",
       "    .dataframe thead th {\n",
       "        text-align: right;\n",
       "    }\n",
       "</style>\n",
       "<table border=\"1\" class=\"dataframe\">\n",
       "  <thead>\n",
       "    <tr style=\"text-align: right;\">\n",
       "      <th></th>\n",
       "      <th>user_id</th>\n",
       "      <th>group</th>\n",
       "      <th>landing_page</th>\n",
       "      <th>time_spent_on_the_page</th>\n",
       "      <th>converted</th>\n",
       "      <th>language_preferred</th>\n",
       "    </tr>\n",
       "  </thead>\n",
       "  <tbody>\n",
       "    <tr>\n",
       "      <th>1</th>\n",
       "      <td>546468</td>\n",
       "      <td>treatment</td>\n",
       "      <td>new</td>\n",
       "      <td>7.13</td>\n",
       "      <td>yes</td>\n",
       "      <td>English</td>\n",
       "    </tr>\n",
       "    <tr>\n",
       "      <th>2</th>\n",
       "      <td>546462</td>\n",
       "      <td>treatment</td>\n",
       "      <td>new</td>\n",
       "      <td>4.40</td>\n",
       "      <td>no</td>\n",
       "      <td>Spanish</td>\n",
       "    </tr>\n",
       "    <tr>\n",
       "      <th>4</th>\n",
       "      <td>546459</td>\n",
       "      <td>treatment</td>\n",
       "      <td>new</td>\n",
       "      <td>4.75</td>\n",
       "      <td>yes</td>\n",
       "      <td>Spanish</td>\n",
       "    </tr>\n",
       "    <tr>\n",
       "      <th>6</th>\n",
       "      <td>546448</td>\n",
       "      <td>treatment</td>\n",
       "      <td>new</td>\n",
       "      <td>5.25</td>\n",
       "      <td>yes</td>\n",
       "      <td>French</td>\n",
       "    </tr>\n",
       "    <tr>\n",
       "      <th>8</th>\n",
       "      <td>546461</td>\n",
       "      <td>treatment</td>\n",
       "      <td>new</td>\n",
       "      <td>10.71</td>\n",
       "      <td>yes</td>\n",
       "      <td>French</td>\n",
       "    </tr>\n",
       "  </tbody>\n",
       "</table>\n",
       "</div>"
      ],
      "text/plain": [
       "   user_id      group landing_page  time_spent_on_the_page converted  \\\n",
       "1   546468  treatment          new                    7.13       yes   \n",
       "2   546462  treatment          new                    4.40        no   \n",
       "4   546459  treatment          new                    4.75       yes   \n",
       "6   546448  treatment          new                    5.25       yes   \n",
       "8   546461  treatment          new                   10.71       yes   \n",
       "\n",
       "  language_preferred  \n",
       "1            English  \n",
       "2            Spanish  \n",
       "4            Spanish  \n",
       "6             French  \n",
       "8             French  "
      ]
     },
     "execution_count": 62,
     "metadata": {},
     "output_type": "execute_result"
    }
   ],
   "source": [
    "# Confirm separation of data: old from new\n",
    "new_time.head()"
   ]
  },
  {
   "cell_type": "markdown",
   "metadata": {
    "id": "f5c5258d"
   },
   "source": [
    "### Step 5: Calculate the p-value"
   ]
  },
  {
   "cell_type": "code",
   "execution_count": 63,
   "metadata": {
    "id": "fac8594a"
   },
   "outputs": [
    {
     "name": "stdout",
     "output_type": "stream",
     "text": [
      "The p-value is 0.0001392381225166549\n"
     ]
    }
   ],
   "source": [
    "# Import the necessary scipy module\n",
    "from scipy.stats import ttest_ind\n",
    "\n",
    "# Determine the p-value\n",
    "test_statistic, p_value = ttest_ind(new_time['time_spent_on_the_page'], old_time['time_spent_on_the_page'].dropna(), equal_var = False, alternative = 'greater')\n",
    "print('The p-value is', p_value)"
   ]
  },
  {
   "cell_type": "markdown",
   "metadata": {
    "id": "359b12f8"
   },
   "source": [
    "### Step 6: Compare the p-value with $\\alpha$"
   ]
  },
  {
   "cell_type": "markdown",
   "metadata": {
    "id": "7be47289"
   },
   "source": [
    "* The p-value is ~0.000139 and the level of significance $\\alpha$ is 0.05.  \n",
    "* Since 0.000139 < 0.05 th p-value is smaller than the level of significance."
   ]
  },
  {
   "cell_type": "markdown",
   "metadata": {
    "id": "d9affc84"
   },
   "source": [
    "### Step 7:  Draw inference"
   ]
  },
  {
   "cell_type": "markdown",
   "metadata": {
    "id": "6b16dd4b"
   },
   "source": [
    "* Since the p-value (0.000139) < $\\alpha$ (0.05) then the null hypothesis is rejected.  \n",
    "* Hence, we have enough statistical evidence to support the claim that customers spend more time on average viewing the new landing page as opposed to viewing the old landing page."
   ]
  },
  {
   "cell_type": "markdown",
   "metadata": {
    "id": "353e9d24"
   },
   "source": [
    "## Is the conversion rate (the proportion of users who visit the landing page and get converted) for the new page greater than the conversion rate for the old page?"
   ]
  },
  {
   "cell_type": "markdown",
   "metadata": {},
   "source": [
    "### Step 0: Perform Visual Analysis"
   ]
  },
  {
   "cell_type": "code",
   "execution_count": 104,
   "metadata": {},
   "outputs": [
    {
     "data": {
      "image/png": "[encoded data removed]",
      "text/plain": [
       "<Figure size 640x480 with 1 Axes>"
      ]
     },
     "metadata": {},
     "output_type": "display_data"
    },
    {
     "name": "stdout",
     "output_type": "stream",
     "text": [
      "Approximately 42.0% were converted on the old landing page versus 66.0% were converted on the new landing page.\n"
     ]
    }
   ],
   "source": [
    "# Plot of count comparing old and new landing page and how many converted\n",
    "sns.countplot(data=df, x='landing_page', hue='converted')\n",
    "plt.xlabel('Landing Page')\n",
    "plt.show()\n",
    "\n",
    "# Percentage of those converted on the new page versus old\n",
    "old = df[df['landing_page'] == 'old']\n",
    "new = df[df['landing_page'] == 'new']\n",
    "\n",
    "# Obtain the total number of converted on the old landing page versus the new landing page\n",
    "num_convert_old = len(old[old['converted'] == 'yes']) \n",
    "num_convert_new = len(new[new['converted'] == 'yes']) \n",
    "\n",
    "# Convert to percentages\n",
    "perc_convert_old = ((num_convert_old)/50)*100\n",
    "perc_convert_new = ((num_convert_new)/50)*100\n",
    "\n",
    "# Print out the percentages\n",
    "print('Approximately ' + str(perc_convert_old) + '% were converted on the old landing page versus ' + str(perc_convert_new) + '% were converted on the new landing page.')"
   ]
  },
  {
   "cell_type": "markdown",
   "metadata": {},
   "source": [
    "#### Observations\n",
    "* More customers were converted on the new landing page than on the old.\n",
    "* On the other hand, more customers were not converted on the old page versus the new.\n",
    "* However, there were a higher number of those converted on the old page than those not converted on the new page."
   ]
  },
  {
   "cell_type": "markdown",
   "metadata": {},
   "source": [
    "### Step 1: Define the null and alternate hypotheses"
   ]
  },
  {
   "cell_type": "markdown",
   "metadata": {
    "id": "b7f52898"
   },
   "source": [
    "Let $p_{new}$ and $p_{old}$ be the proportion of users who visit the landing page and get converted on the new page and old page, respectively.\n",
    "\n",
    "The null hypothesis is that the conversion rate is the same for the new page and the old page, or\n",
    ">$H_0: p_{new} = p_{old}$.\n",
    "    \n",
    "The alternative hypothesis is that the conversion rate is greater for the new page versus the old page, or\n",
    ">$H_a: p_{new} > p_{old}$."
   ]
  },
  {
   "cell_type": "markdown",
   "metadata": {},
   "source": [
    "### Step 2: Select Appropriate test"
   ]
  },
  {
   "cell_type": "markdown",
   "metadata": {},
   "source": [
    "#### Determine $n$ and $p$ (sample size and sample proportions) for Two Proportion Z-test"
   ]
  },
  {
   "cell_type": "code",
   "execution_count": 64,
   "metadata": {},
   "outputs": [
    {
     "name": "stdout",
     "output_type": "stream",
     "text": [
      "The number of total users on the new landing page was 50 and the number of users on the old landing page was 50.\n",
      "The proportion of users converted on the new landing page was 0.66 and on the old landing page 0.42.\n"
     ]
    }
   ],
   "source": [
    "# Seperate data into new and old landing page\n",
    "new_page = df[df['landing_page']== 'new']\n",
    "old_page = df[df['landing_page']== 'old']\n",
    "\n",
    "# Determine the sample sizes from the new and old landing page\n",
    "new_n_users = len(new_page)\n",
    "old_n_users = len(old_page)\n",
    "print('The number of total users on the new landing page was ' + str(new_n_users) + ' and the number of users on the old landing page was ' + str(old_n_users) + '.')\n",
    "\n",
    "# Find the number converted on the new and old landing page\n",
    "new_converted = new_page[new_page['converted'] == 'yes']\n",
    "old_converted = old_page[old_page['converted'] == 'yes']\n",
    "p_new = len(new_converted)/new_n_users\n",
    "p_old = len(old_converted)/old_n_users\n",
    "\n",
    "print('The proportion of users converted on the new landing page was ' + str(p_new) + ' and on the old landing page ' + str(p_old) + '.')"
   ]
  },
  {
   "cell_type": "markdown",
   "metadata": {},
   "source": [
    "### Two Proportion Z-test\n",
    "\n",
    "#### Z-test assumptions \n",
    "\n",
    "*   Binomally distributed population - Yes, users are either converted or not converted.\n",
    "*   Random sampling from the population - Yes, it is stated in the problem that it is a simple random sample.  \n",
    "*   The binomial distribution can be approximated to a normal distribution by CLT. \n",
    "*   $n$ and $p$ refer to the sample size and sample proportion, respectively:\n",
    ">$\\begin{align} np_{new}   & = 50 \\cdot 0.66     & = 33  \\geq 10 \\\\\n",
    "n(1-p_{new})               & = 50 \\cdot (1-0.66) & = 17  \\geq 10 \\\\\n",
    "np_{old}                   & = 50 \\cdot 0.42     & = 21  \\geq 10 \\\\\n",
    "n(1-p_{old})               & = 50 \\cdot (1-0.42) & = 29  \\geq 10 \\end{align}$"
   ]
  },
  {
   "cell_type": "markdown",
   "metadata": {},
   "source": [
    "### Step 3: Decide the significance level"
   ]
  },
  {
   "cell_type": "markdown",
   "metadata": {},
   "source": [
    "* It states in the problem that the significance level is $\\alpha = 0.05$."
   ]
  },
  {
   "cell_type": "markdown",
   "metadata": {},
   "source": [
    "### Step 4: Collect and prepare data\n",
    "* See Step 2 where I have already separated the data."
   ]
  },
  {
   "cell_type": "markdown",
   "metadata": {},
   "source": [
    "### Step 5: Calculate the p-value"
   ]
  },
  {
   "cell_type": "code",
   "execution_count": 65,
   "metadata": {},
   "outputs": [
    {
     "name": "stdout",
     "output_type": "stream",
     "text": [
      "The p-value is 0.016052616408112556.\n"
     ]
    }
   ],
   "source": [
    "# Import the necessary python module\n",
    "from statsmodels.stats.proportion import proportions_ztest\n",
    "\n",
    "# Set the number of converted users for old and new landing page (refer to Step 2 for variables)\n",
    "converted_users = np.array([len(new_converted), len(old_converted)])\n",
    "\n",
    "# Array of sample sizes for old and new landing page\n",
    "n_obs = np.array([50, 50])\n",
    "\n",
    "# find the p-value\n",
    "test_stat, p_value = proportions_ztest(converted_users, n_obs)\n",
    "print('The p-value is ' + str(p_value) + '.')"
   ]
  },
  {
   "cell_type": "markdown",
   "metadata": {},
   "source": [
    "### Step 6: Compare the p-value with $\\alpha$"
   ]
  },
  {
   "cell_type": "markdown",
   "metadata": {},
   "source": [
    "* The p-value is 0.01605216408112556 and the level of significance $\\alpha$ is 0.05. \n",
    "* p-value (~0.0161) < $\\alpha$ (0.05)"
   ]
  },
  {
   "cell_type": "markdown",
   "metadata": {},
   "source": [
    "### Step 7:  Draw inference"
   ]
  },
  {
   "cell_type": "markdown",
   "metadata": {},
   "source": [
    "* Since the p-value is smaller than the level of significance the null hypothesis is rejected and we have enough statistical evidence to claim that the user conversion rate is higher on the new landing page than on the old landing page."
   ]
  },
  {
   "cell_type": "markdown",
   "metadata": {
    "id": "d49bfa2d"
   },
   "source": [
    "## Is the conversion and preferred language are independent or related?"
   ]
  },
  {
   "cell_type": "markdown",
   "metadata": {},
   "source": [
    "### Step 0: Perform Visual Analysis"
   ]
  },
  {
   "cell_type": "code",
   "execution_count": 83,
   "metadata": {},
   "outputs": [
    {
     "data": {
      "image/png": "[encoded data removed]",
      "text/plain": [
       "<Figure size 640x480 with 1 Axes>"
      ]
     },
     "metadata": {},
     "output_type": "display_data"
    }
   ],
   "source": [
    "# Plot of count comparing conversion with preferred language\n",
    "sns.countplot(data=df, x='language_preferred', hue='converted')\n",
    "plt.xlabel('Language Preferred')\n",
    "plt.show()"
   ]
  },
  {
   "cell_type": "markdown",
   "metadata": {},
   "source": [
    "#### Observations\n",
    "* English had the highest number of customers converted and the lowest number of customers not converted. \n",
    "* French had more not converted than converted.\n",
    "* Spanish had slightly more converted than not converted."
   ]
  },
  {
   "cell_type": "markdown",
   "metadata": {},
   "source": [
    "### Step 1: Define the null and alternate hypotheses"
   ]
  },
  {
   "cell_type": "markdown",
   "metadata": {
    "id": "b0e63f17"
   },
   "source": [
    "Let the null hypothesis be\n",
    ">$H_0$: the conversion and preferred language are independent of each other.\n",
    "\n",
    "Furthermore, let the alternative hypothesis be\n",
    ">$H_a$: the conversion and preferred language are dependent on each other."
   ]
  },
  {
   "cell_type": "markdown",
   "metadata": {},
   "source": [
    "### Step 2: Select Appropriate test"
   ]
  },
  {
   "cell_type": "markdown",
   "metadata": {},
   "source": [
    "### Chi Square Test of Independence assumptions\n",
    "\n",
    "* Categorical variables - Yes, language preferred is English, Spanish, or French.  Conversion is only yes or no.\n",
    "* Expected value of the number of sample observations in each level of the variable is at least 5 - Yes.\n",
    "* Random sampling from the population - Yes, the problem states it is a simple random sample.\n"
   ]
  },
  {
   "cell_type": "markdown",
   "metadata": {},
   "source": [
    "### Step 3: Decide the significance level\n",
    "* The problem states a level of significance of $\\alpha$ = 0.05. "
   ]
  },
  {
   "cell_type": "markdown",
   "metadata": {},
   "source": [
    "### Step 4 and 5:  Collect Data and Compute the p-value"
   ]
  },
  {
   "cell_type": "code",
   "execution_count": 66,
   "metadata": {},
   "outputs": [
    {
     "name": "stdout",
     "output_type": "stream",
     "text": [
      "The p-value is 0.21298887487543447\n"
     ]
    }
   ],
   "source": [
    "# Import the necessary scipy module\n",
    "from scipy.stats import chi2_contingency\n",
    "\n",
    "# Create a contingency table of the data\n",
    "df_crosstab = pd.crosstab(df['converted'], df['language_preferred'], margins = False) \n",
    "\n",
    "# Determine the p-value using the chi square function\n",
    "chi, p_value, dof, expected = chi2_contingency(df_crosstab)\n",
    "print('The p-value is', p_value)"
   ]
  },
  {
   "cell_type": "markdown",
   "metadata": {},
   "source": [
    "### Step 6: Compare p-value with $\\alpha$"
   ]
  },
  {
   "cell_type": "markdown",
   "metadata": {},
   "source": [
    "* The p-value is greater than the level of signifance."
   ]
  },
  {
   "cell_type": "markdown",
   "metadata": {},
   "source": [
    "### Step 7: Draw Inference"
   ]
  },
  {
   "cell_type": "markdown",
   "metadata": {},
   "source": [
    "* Since the p-value is ~0.213 and the level of significance is 0.05 the null hypothesis can not be rejected. Therefore, there is no statistical evidence to support the claim that conversion depends on language preferred."
   ]
  },
  {
   "cell_type": "markdown",
   "metadata": {
    "id": "8d585a90"
   },
   "source": [
    "## Is the time spent on the new page same for the different language users?"
   ]
  },
  {
   "cell_type": "markdown",
   "metadata": {},
   "source": [
    "### Step 0: Perform Visual Analysis"
   ]
  },
  {
   "cell_type": "code",
   "execution_count": 85,
   "metadata": {},
   "outputs": [
    {
     "data": {
      "image/png": "[encoded data removed]",
      "text/plain": [
       "<Figure size 640x480 with 1 Axes>"
      ]
     },
     "metadata": {},
     "output_type": "display_data"
    }
   ],
   "source": [
    "# Plot to compare language with time spent on the page\n",
    "sns.boxplot(data=df, x=\"time_spent_on_the_page\", y=\"language_preferred\")\n",
    "plt.xlabel('Time Spent on the Page')\n",
    "plt.ylabel('Language Preferred')\n",
    "plt.show()"
   ]
  },
  {
   "cell_type": "markdown",
   "metadata": {},
   "source": [
    "#### Observations\n",
    "* Spanish customers had the smallest range of times spent on the page compared to English and French.\n",
    "* English and French have similar distributions with English having a slighlty higher median time.\n",
    "* The data for French customers appears to be normally distributed wheareas English and Spanish have a slight left skew.\n",
    "* The Spanish data have an outlier present."
   ]
  },
  {
   "cell_type": "markdown",
   "metadata": {
    "id": "b422f395"
   },
   "source": [
    "### Step 1: Define the null and alternate hypotheses\n",
    "\n",
    "Let $\\mu_E, \\mu_S, \\mu_F$ be the means of time spent on the new page for English, Spanish, and French, respectively.\n",
    "\n",
    "Then we define the null hypothesis to be\n",
    "\n",
    ">$H_0: \\mu_E = \\mu_S = \\mu_F$\n",
    "\n",
    "and the alternative hypothesis\n",
    "\n",
    ">$H_a: $ At least one time spent on the page is different between the different language users.\n"
   ]
  },
  {
   "cell_type": "markdown",
   "metadata": {},
   "source": [
    "### Step 2: Select Appropriate test"
   ]
  },
  {
   "cell_type": "markdown",
   "metadata": {},
   "source": [
    "#### One-way ANOVA test\n",
    "* Time spent on the page is the response variable and preferred language is the factor."
   ]
  },
  {
   "cell_type": "code",
   "execution_count": 86,
   "metadata": {},
   "outputs": [
    {
     "data": {
      "text/plain": [
       "Spanish    34\n",
       "French     34\n",
       "English    32\n",
       "Name: language_preferred, dtype: int64"
      ]
     },
     "execution_count": 86,
     "metadata": {},
     "output_type": "execute_result"
    }
   ],
   "source": [
    "# Obtain the levels of the factor preferred language\n",
    "df['language_preferred'].value_counts()"
   ]
  },
  {
   "cell_type": "code",
   "execution_count": 88,
   "metadata": {},
   "outputs": [
    {
     "name": "stdout",
     "output_type": "stream",
     "text": [
      "language_preferred\n",
      "English    5.559062\n",
      "French     5.253235\n",
      "Spanish    5.331765\n",
      "Name: time_spent_on_the_page, dtype: float64\n"
     ]
    }
   ],
   "source": [
    "# Average time spent on the page at different levels of the preferred language factor\n",
    "print(df.groupby('language_preferred')['time_spent_on_the_page'].mean())"
   ]
  },
  {
   "cell_type": "markdown",
   "metadata": {},
   "source": [
    "### Ancillary Tests to the One-way ANOVA Test"
   ]
  },
  {
   "cell_type": "markdown",
   "metadata": {},
   "source": [
    "#### Shapiro-Wilks Test: Testing the response variable for normality"
   ]
  },
  {
   "cell_type": "markdown",
   "metadata": {},
   "source": [
    "For this test the null hypothesis is\n",
    "\n",
    ">$H_0:$ Time spent on the page follows a normal distribution \n",
    "\n",
    "whereas, the alternative hypothesis is\n",
    "\n",
    ">$H_a:$ Time spent on the page does not follow a normal distribution"
   ]
  },
  {
   "cell_type": "code",
   "execution_count": null,
   "metadata": {},
   "outputs": [],
   "source": [
    "# Import necessary python module\n",
    "from scipy import stats\n",
    "\n",
    "# Determine the p-value\n",
    "w, p_value = stats.shapiro(df['time_spent_on_the_page']) \n",
    "print('The p-value is', p_value)"
   ]
  },
  {
   "cell_type": "markdown",
   "metadata": {},
   "source": [
    "#### Shapiro-Wilk's Test Conclusion\n",
    "*  The p-value (~0.564) is greater than the level of significance ($\\alpha = 0.05$) so the null hypothesis can not be rejected.  So we fail to reject the null hypothesis that the response follows the normal distribution."
   ]
  },
  {
   "cell_type": "markdown",
   "metadata": {},
   "source": [
    "#### Levene’s Test: homogeneity of variances\n",
    "\n",
    "Let the null hypothesis be\n",
    "\n",
    ">$H_0$: All population variances are equal\n",
    "\n",
    "and let the alternative hypothesis be\n",
    "\n",
    ">$H_a$: At least one variance is different"
   ]
  },
  {
   "cell_type": "code",
   "execution_count": null,
   "metadata": {},
   "outputs": [],
   "source": [
    "# Import the necessary python module\n",
    "from scipy.stats import levene\n",
    "\n",
    "# Run the Levenes Test\n",
    "statistic, p_value = levene(df['time_spent_on_the_page'][df['language_preferred']=='English'], \n",
    "                            df['time_spent_on_the_page'][df['language_preferred']=='Spanish'], \n",
    "                            df['time_spent_on_the_page'][df['language_preferred']=='French'])\n",
    "# Print the p-value\n",
    "print('The p-value is', p_value)"
   ]
  },
  {
   "cell_type": "markdown",
   "metadata": {},
   "source": [
    "#### Levene's Test Conclusion\n",
    "*  The p-value (~0.065) is greater than the level of significance ($\\alpha = 0.05$) so we fail to reject the null hypothesis of homogeneity of variances."
   ]
  },
  {
   "cell_type": "markdown",
   "metadata": {},
   "source": [
    "### One-way ANOVA Test Assumptions Verification\n",
    "\n",
    "* The populations are normally distributed was verified by the Shapiro-Wilk’s test.\n",
    "* The problem states that the collected sample is a simple random sample.\n",
    "* The homogeneity of variance assumption was verified using the Levene's test."
   ]
  },
  {
   "cell_type": "markdown",
   "metadata": {},
   "source": [
    "### Step 3: Select level of Significance\n",
    "*  The problem states to use a level of significance of $\\alpha=0.05$."
   ]
  },
  {
   "cell_type": "markdown",
   "metadata": {},
   "source": [
    "### Steps 4 and 5:  Collect Data and Implement Test"
   ]
  },
  {
   "cell_type": "code",
   "execution_count": 106,
   "metadata": {},
   "outputs": [
    {
     "name": "stdout",
     "output_type": "stream",
     "text": [
      "The p-value is 0.8665610536012648\n"
     ]
    }
   ],
   "source": [
    "# Import the necessary python module\n",
    "from scipy.stats import f_oneway\n",
    "\n",
    "# Determine the p-value using a one-way anova test\n",
    "test_stat, p_value = f_oneway(df.loc[df['language_preferred'] == 'English', 'time_spent_on_the_page'],\n",
    "                              df.loc[df['language_preferred'] == 'Spanish', 'time_spent_on_the_page'],\n",
    "                              df.loc[df['language_preferred'] == 'French',  'time_spent_on_the_page'])\n",
    "# Print out the p-value\n",
    "print('The p-value is ' + str(p_value))"
   ]
  },
  {
   "cell_type": "markdown",
   "metadata": {},
   "source": [
    "### Steps 6: Compare p-value with Level of Significance "
   ]
  },
  {
   "cell_type": "markdown",
   "metadata": {},
   "source": [
    "* The p-value is greater than the level of significance. "
   ]
  },
  {
   "cell_type": "markdown",
   "metadata": {},
   "source": [
    "### Step 7: Draw Inference"
   ]
  },
  {
   "cell_type": "markdown",
   "metadata": {},
   "source": [
    "#### One-way ANOVA test conclusions\n",
    "*  The p-value (~0.867) is greater than the level of significance $\\alpha = 0.05$ therefore the null hypothesis can not be rejected.  Thus, there is not enough statistical evidence to conclude that the average time spent on the page is different for the different preferred languages of English, Spanish, and French among users."
   ]
  },
  {
   "cell_type": "markdown",
   "metadata": {
    "id": "3acbc947"
   },
   "source": [
    "## Conclusions and Business Recommendations"
   ]
  },
  {
   "cell_type": "markdown",
   "metadata": {},
   "source": [
    "* Out of 100 customers, half were in the control group or viewed the old landing page and the other half were in the treatment group or viewed the new landing page.\n",
    "* Customer times spent on either page ranged from 0.2-10.7 minutes with an average of 5.4 minutes and standard deviation of 2.4 minutes.  \n",
    "* The new landing page was associated with longer times spent on the page and a higher average and median time compared to the old landing page; customers spent 85 more minutes total on the new landing page.\n",
    "* More customers converted on the new landing page than the old; approximately, 42.0% were converted on the old landing page versus 66.0% on the new landing page.\n",
    "* English had the highest number of customers converted and the lowest number of customers not converted compared to French and Spanish.\n",
    "* There is statistical evidence to support the claims that – \n",
    "    * customers spend more time on average on the new landing page as opposed to the old landing page.\n",
    "    * customer conversion rate is higher on the new landing page than on the old landing page.\n",
    "* There is no statistical evidence to support the claim that conversion depends on language preferred or that the average time spent on the page is different for the different preferred languages of English, Spanish, and French among users.\n",
    "* ENews should focus on continuing to improve on the new landing page since customers spent more time and more conversions were seen on the new page.\n",
    "* Since the new landing page showed a higher converstion rate and it was associated with longer times spent on the page the ENews development team should consider additional ways to keep customers engaged on the page."
   ]
  }
 ],
 "metadata": {
  "colab": {
   "collapsed_sections": [
    "a6a3d218",
    "6970dd99",
    "9d75cfa2",
    "68f3b2c9",
    "fad2de2f",
    "27906576",
    "e5fdf0c8",
    "56b3dafd",
    "c7ee4907",
    "3f58c9a7",
    "5fed2eac",
    "f5c5258d",
    "359b12f8",
    "d9affc84",
    "353e9d24",
    "d49bfa2d",
    "8d585a90",
    "3acbc947"
   ],
   "name": "ENews_Express_Learner_Notebook_Full_Code v1.1.ipynb",
   "provenance": []
  },
  "kernelspec": {
   "display_name": "Python 3 (ipykernel)",
   "language": "python",
   "name": "python3"
  },
  "language_info": {
   "codemirror_mode": {
    "name": "ipython",
    "version": 3
   },
   "file_extension": ".py",
   "mimetype": "text/x-python",
   "name": "python",
   "nbconvert_exporter": "python",
   "pygments_lexer": "ipython3",
   "version": "3.11.3"
  }
 },
 "nbformat": 4,
 "nbformat_minor": 4
}
